{
 "cells": [
  {
   "cell_type": "markdown",
   "metadata": {},
   "source": [
    "# DeepMind_NLP-3"
   ]
  },
  {
   "cell_type": "markdown",
   "metadata": {},
   "source": [
    "## Language models\n",
    "Object: Build a language model assings a probability to a sequence of words, such that $\\sum_{w\\in \\sum{*}}p(w) = 1$ \n",
    "\n",
    "* \\* : any string\n",
    "\n",
    "Given the observed training text, how probable is this new utterance(말)?\n",
    "\n",
    "Thus we can compare different orderings of words.(e.g. Translation)\n",
    "\n",
    "P(he likes apples) > p(apples likes he)\n",
    "\n",
    "or choice of words(e.g. Speech Recognitions)\n",
    "\n",
    "P(he likes apples) > P(he licks apples)"
   ]
  },
  {
   "cell_type": "markdown",
   "metadata": {},
   "source": []
  }
 ],
 "metadata": {
  "kernelspec": {
   "display_name": "Python [conda root]",
   "language": "python",
   "name": "conda-root-py"
  },
  "language_info": {
   "codemirror_mode": {
    "name": "ipython",
    "version": 3
   },
   "file_extension": ".py",
   "mimetype": "text/x-python",
   "name": "python",
   "nbconvert_exporter": "python",
   "pygments_lexer": "ipython3",
   "version": "3.6.0"
  }
 },
 "nbformat": 4,
 "nbformat_minor": 2
}
